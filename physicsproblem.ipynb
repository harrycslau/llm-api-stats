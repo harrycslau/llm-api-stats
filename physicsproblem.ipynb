{
  "cells": [
    {
      "cell_type": "code",
      "execution_count": null,
      "metadata": {
        "colab": {
          "base_uri": "https://localhost:8080/"
        },
        "id": "93wkTkFpmrkh",
        "outputId": "1af936ca-cf21-4f2a-dc95-7d2b1a112f97"
      },
      "outputs": [],
      "source": [
        "!pip install openai\n",
        "!pip install groq\n",
        "!pip install python-dotenv"
      ]
    },
    {
      "cell_type": "code",
      "execution_count": 24,
      "metadata": {
        "id": "cy7SBjMcnn5M"
      },
      "outputs": [],
      "source": [
        "import os\n",
        "import time\n",
        "from dotenv import load_dotenv\n",
        "from groq import Groq\n",
        "\n",
        "load_dotenv()\n",
        "client = Groq(\n",
        "    api_key=os.getenv(\"API_KEY_GROQ\"),\n",
        ")"
      ]
    },
    {
      "cell_type": "code",
      "execution_count": 108,
      "metadata": {
        "colab": {
          "base_uri": "https://localhost:8080/"
        },
        "id": "oHu0I0B8n9Go",
        "outputId": "eeff2207-e20b-4c6c-ee6f-fab45dc079b1"
      },
      "outputs": [
        {
          "name": "stdout",
          "output_type": "stream",
          "text": [
            "A bicycle is pedaling at a constant speed of 8 m s-1 on a flat road. It gradually comes to a stop in 15 s. What is its distance travelled during this period?\n",
            "Input tokens: 151\n",
            "Output tokens: 42\n",
            "Total time: 0.054760412 sec\n"
          ]
        }
      ],
      "source": [
        "chat_completion = client.chat.completions.create(\n",
        "    model=\"llama-3.2-3b-preview\",\n",
        "    messages=[\n",
        "        {\n",
        "            \"role\": \"system\",\n",
        "            \"content\": (\n",
        "                \"You are a physics textbook editor. \"\n",
        "                \"Your task is to rephrase physics questions by changing the objects or nouns, magnitudes, paraphrasing the sentence(s) and the order of the sentence(s). \"\n",
        "                \"Ensure that the magnitude of the physical quantities is realistic and matches the context of the question and the objects or nouns used. \"\n",
        "                \"Just give the question. Do not give other details and the solution. \"\n",
        "            )\n",
        "        },\n",
        "        {\n",
        "            \"role\": \"user\",\n",
        "            \"content\": \"A car is running on the road at a speed of 32 m s-1. It slows down steadily and stops in 10 s. What is its distance travelled during this period? \"\n",
        " #           \"content\": \"A vehicle is moving at a constant velocity of 32 meters per second along a straight path. It gradually comes to a complete halt over a period of 10 seconds. What is the total distance it travels during this time?\"\n",
        "\n",
        "        }\n",
        "    ],\n",
        "    temperature=0.5,\n",
        ")\n",
        "\n",
        "result_step1 = chat_completion.choices[0].message.content\n",
        "print(result_step1)\n",
        "time.sleep(1)\n",
        "\n",
        "# Print token usage and response timing is available in the response\n",
        "input_tokens = chat_completion.usage.prompt_tokens\n",
        "output_tokens = chat_completion.usage.completion_tokens\n",
        "total_time = chat_completion.usage.total_time\n",
        "print(f\"Input tokens: {input_tokens}\")\n",
        "print(f\"Output tokens: {output_tokens}\")\n",
        "print(f\"Total time: {total_time} sec\")"
      ]
    },
    {
      "cell_type": "code",
      "execution_count": 109,
      "metadata": {
        "id": "nZSIClq0oZp-"
      },
      "outputs": [
        {
          "name": "stdout",
          "output_type": "stream",
          "text": [
            "Initial velocity (u) = 8 m s-1 \n",
            "Final velocity (v) = 0 m s-1 \n",
            "Time (t) = 15 s \n",
            "\n",
            "Using the equation v = u + at, \n",
            "0 = 8 + a(15) \n",
            "-8 = 15a \n",
            "a = -8/15 m s-2 \n",
            "\n",
            "Using the equation v² = u² + 2as, \n",
            "0² = 8² + 2(-8/15)s \n",
            "0 = 64 - (16/15)s \n",
            "(16/15)s = 64 \n",
            "s = 64 * (15/16) \n",
            "s = 60 m\n",
            "Input tokens: 108\n",
            "Output tokens: 139\n",
            "Total time: 0.421277419 sec\n"
          ]
        }
      ],
      "source": [
        "chat_completion = client.chat.completions.create(\n",
        "    model=\"llama-3.2-90b-text-preview\",\n",
        "    messages=[\n",
        "        {\n",
        "            \"role\": \"system\",\n",
        "            \"content\": (\n",
        "                \"You are a physics teacher. \"\n",
        "                \"Provide a step-by-step solution to the given question. \"\n",
        "                \"Do not repeat the question, give alternative solutions, or give other details. \"\n",
        "            )\n",
        "        },\n",
        "        {\n",
        "            \"role\": \"user\",\n",
        "            \"content\": result_step1\n",
        "\n",
        "        }\n",
        "    ],\n",
        "    temperature=0.1,\n",
        ")\n",
        "\n",
        "result_step2 = chat_completion.choices[0].message.content\n",
        "print(result_step2)\n",
        "time.sleep(1)\n",
        "\n",
        "# Print token usage and response timing is available in the response\n",
        "input_tokens = chat_completion.usage.prompt_tokens\n",
        "output_tokens = chat_completion.usage.completion_tokens\n",
        "total_time = chat_completion.usage.total_time\n",
        "print(f\"Input tokens: {input_tokens}\")\n",
        "print(f\"Output tokens: {output_tokens}\")\n",
        "print(f\"Total time: {total_time} sec\")"
      ]
    },
    {
      "cell_type": "code",
      "execution_count": 114,
      "metadata": {
        "id": "ck9qCtm2pTx7"
      },
      "outputs": [
        {
          "name": "stdout",
          "output_type": "stream",
          "text": [
            "Original question: \n",
            "A bicycle is pedaling at a constant speed of 8 m s-1 on a flat road. It gradually comes to a stop in 15 s. What is its distance travelled during this period?\n",
            "\n",
            "Changed question: \n",
            "A bicycle is pedaling at a constant speed of 8 m s-1 on a flat road. It gradually comes to a stop in 15 s. What is its acceleration during this period?\n",
            "\n",
            "Original solution: \n",
            "Initial velocity (u) = 8 m s-1 \n",
            "Final velocity (v) = 0 m s-1 \n",
            "Time (t) = 15 s \n",
            "\n",
            "Using the equation v = u + at, \n",
            "0 = 8 + a(15) \n",
            "-8 = 15a \n",
            "a = -8/15 m s-2 \n",
            "\n",
            "Using the equation v² = u² + 2as, \n",
            "0² = 8² + 2(-8/15)s \n",
            "0 = 64 - (16/15)s \n",
            "(16/15)s = 64 \n",
            "s = 64 * (15/16) \n",
            "s = 60 m\n",
            "\n",
            "Changed solution: \n",
            "Initial velocity (u) = 0 m s-1 \n",
            "Final velocity (v) = 0 m s-1 \n",
            "Time (t) = 15 s \n",
            "\n",
            "Using the equation v = u + at, \n",
            "0 = 0 + a(15) \n",
            "0 = 15a \n",
            "a = 0 m s-2 \n",
            "\n",
            "Using the equation v² = u² + 2as, \n",
            "0² = 0² + 2(0)s \n",
            "0 = 0 \n",
            "s = 64 * (15/16) \n",
            "s = 60 m\n",
            "Input tokens: 292\n",
            "Output tokens: 355\n",
            "Total time: 0.396951664 sec\n"
          ]
        }
      ],
      "source": [
        "chat_completion = client.chat.completions.create(\n",
        "    model=\"llama-3.2-11b-text-preview\",\n",
        "    messages=[\n",
        "        {\n",
        "            \"role\": \"system\",\n",
        "            \"content\": (\n",
        "                \"You are a physics textbook editor. \"\n",
        "                \"You will be given an question and the solution. \"\n",
        "                \"Your task is identify the physical quantities in the question, \"\n",
        "                \"and then change one known physical quantities into unknown, and the original unknown physical quantities into known. \"\n",
        "                \"Rephrase the question and the solution. \"\n",
        "                \"Do not give other details and the original question and the solution. \"\n",
        "            )\n",
        "        },\n",
        "        {\n",
        "            \"role\": \"user\",\n",
        "            \"content\": \"question: '\" + result_step1 + \"' === solution: '\" + result_step2 + \"' \"\n",
        "        }\n",
        "    ],\n",
        "    temperature=0.5,\n",
        ")\n",
        "\n",
        "result_step3 = chat_completion.choices[0].message.content\n",
        "print(result_step3)\n",
        "time.sleep(1)\n",
        "\n",
        "# Print token usage and response timing is available in the response\n",
        "input_tokens = chat_completion.usage.prompt_tokens\n",
        "output_tokens = chat_completion.usage.completion_tokens\n",
        "total_time = chat_completion.usage.total_time\n",
        "print(f\"Input tokens: {input_tokens}\")\n",
        "print(f\"Output tokens: {output_tokens}\")\n",
        "print(f\"Total time: {total_time} sec\")"
      ]
    },
    {
      "cell_type": "code",
      "execution_count": null,
      "metadata": {},
      "outputs": [],
      "source": []
    }
  ],
  "metadata": {
    "colab": {
      "provenance": []
    },
    "kernelspec": {
      "display_name": "Python 3",
      "name": "python3"
    },
    "language_info": {
      "codemirror_mode": {
        "name": "ipython",
        "version": 3
      },
      "file_extension": ".py",
      "mimetype": "text/x-python",
      "name": "python",
      "nbconvert_exporter": "python",
      "pygments_lexer": "ipython3",
      "version": "3.12.2"
    }
  },
  "nbformat": 4,
  "nbformat_minor": 0
}
